{
 "cells": [
  {
   "cell_type": "markdown",
   "metadata": {},
   "source": [
    "### imports"
   ]
  },
  {
   "cell_type": "code",
   "execution_count": 2,
   "metadata": {},
   "outputs": [
    {
     "data": {
      "text/plain": [
       "True"
      ]
     },
     "execution_count": 2,
     "metadata": {},
     "output_type": "execute_result"
    }
   ],
   "source": [
    "import json, os, requests\n",
    "from dotenv import load_dotenv\n",
    "load_dotenv(\"credentials.env\")"
   ]
  },
  {
   "cell_type": "markdown",
   "metadata": {},
   "source": [
    "### prep"
   ]
  },
  {
   "cell_type": "code",
   "execution_count": 4,
   "metadata": {},
   "outputs": [],
   "source": [
    "indexes = [\n",
    "    {\n",
    "        \"name\": \"ixfieldmapping\",\n",
    "        \"fields\": [\n",
    "            \"code\",\n",
    "            \"mapping_id\",\n",
    "            \"short_descr\",\n",
    "            \"long_descr\"\n",
    "        ]\n",
    "    },\n",
    "    {\n",
    "        \"name\": \"ixproductmapping\",\n",
    "        \"fields\" : [\n",
    "            \"id\",\n",
    "            \"name\",\n",
    "            \"state\",\n",
    "            \"value\"\n",
    "        ]\n",
    "    },\n",
    "    {\n",
    "        \"name\": \"ixenhancedproductmapping\",\n",
    "        \"fields\": [\n",
    "            \"id\",\n",
    "            \"name\",\n",
    "            \"state\",\n",
    "            \"value\",\n",
    "            \"enhanced_value\",\n",
    "            \"translated_value\",\n",
    "            \"cat1_codes\",\n",
    "            \"cat2_codes\",\n",
    "            \"cat3_codes\"\n",
    "        ]\n",
    "    }\n",
    "]"
   ]
  },
  {
   "cell_type": "markdown",
   "metadata": {},
   "source": [
    "### search field mapping"
   ]
  },
  {
   "cell_type": "code",
   "execution_count": 6,
   "metadata": {},
   "outputs": [
    {
     "name": "stdout",
     "output_type": "stream",
     "text": [
      "{'@odata.context': \"https://chatwithbrsearch.search.windows.net/indexes('ixfieldmapping')/$metadata#docs(*)\", '@search.nextPageParameters': {'search': '*', 'select': 'code, mapping_id, short_descr, long_descr', 'queryType': 'simple', 'skip': 50}, 'value': [{'@search.score': 1.0, 'code': '109076', 'mapping_id': 'customfield', 'short_descr': 'UGIG170', 'long_descr': 'Ultimate Gig $170'}, {'@search.score': 1.0, 'code': '97406', 'mapping_id': 'customfield', 'short_descr': 'B112G160', 'long_descr': 'Basic TV and Gig Extra (1.2Gbps) for $160.'}, {'@search.score': 1.0, 'code': '97474', 'mapping_id': 'customfield', 'short_descr': 'SFAST65', 'long_descr': 'Super Fast $65'}, {'@search.score': 1.0, 'code': '97512', 'mapping_id': 'customfield', 'short_descr': 'GIG90', 'long_descr': 'Gig internet for $90'}, {'@search.score': 1.0, 'code': '97544', 'mapping_id': 'customfield', 'short_descr': 'PMSUP160', 'long_descr': 'Super Plus More (TV, Internet, Phone) $160'}, {'@search.score': 1.0, 'code': '97584', 'mapping_id': 'customfield', 'short_descr': 'FAST65', 'long_descr': 'Fast internet for $65'}, {'@search.score': 1.0, 'code': '97590', 'mapping_id': 'customfield', 'short_descr': 'UGIG160', 'long_descr': 'Ultimate Gig $160'}, {'@search.score': 1.0, 'code': '97608', 'mapping_id': 'customfield', 'short_descr': 'PLSIG160', 'long_descr': 'Sig Plus for $160'}, {'@search.score': 1.0, 'code': '97612', 'mapping_id': 'customfield', 'short_descr': 'PMSIG140', 'long_descr': 'Sig Plus More (TV, Internet, Phone) $140'}, {'@search.score': 1.0, 'code': '97672', 'mapping_id': 'customfield', 'short_descr': 'CONNM40', 'long_descr': 'Connect More for $40'}, {'@search.score': 1.0, 'code': '97714', 'mapping_id': 'customfield', 'short_descr': 'U400140', 'long_descr': 'Ultimate 400 $140'}, {'@search.score': 1.0, 'code': '97820', 'mapping_id': 'customfield', 'short_descr': '3PSUPEDP', 'long_descr': '3 Product Super Fast Internet Everyday Pricing'}, {'@search.score': 1.0, 'code': '97828', 'mapping_id': 'customfield', 'short_descr': 'B140040', 'long_descr': 'Basic TV 400 for $40'}, {'@search.score': 1.0, 'code': '97830', 'mapping_id': 'customfield', 'short_descr': 'B140050', 'long_descr': 'Basic TV 400 for $50'}, {'@search.score': 1.0, 'code': '109014', 'mapping_id': 'customfield', 'short_descr': 'P75110', 'long_descr': 'Popular Connect for $110'}, {'@search.score': 1.0, 'code': '109016', 'mapping_id': 'customfield', 'short_descr': 'P200100', 'long_descr': '2 Products Popular & Connect More (200Mbps) for $100 '}, {'@search.score': 1.0, 'code': '109070', 'mapping_id': 'customfield', 'short_descr': 'U400170', 'long_descr': 'Ultimate 400 $170'}, {'@search.score': 1.0, 'code': '109082', 'mapping_id': 'customfield', 'short_descr': 'U12G180', 'long_descr': 'Ultimate Gig Extra $180'}, {'@search.score': 1.0, 'code': '80120', 'mapping_id': 'lob', 'short_descr': 'XTV AND XV', 'long_descr': 'Xfinity Television and Xfinity Voice'}, {'@search.score': 1.0, 'code': '97412', 'mapping_id': 'customfield', 'short_descr': 'PLSUP150', 'long_descr': 'Super Plus (TV & Internet) $150'}, {'@search.score': 1.0, 'code': '97470', 'mapping_id': 'customfield', 'short_descr': 'PLSUPEDP', 'long_descr': 'Super Plus (TV & Internet) for Every Day Price'}, {'@search.score': 1.0, 'code': '97488', 'mapping_id': 'customfield', 'short_descr': 'B1800140', 'long_descr': 'Basic TV 800 for $140'}, {'@search.score': 1.0, 'code': '97510', 'mapping_id': 'customfield', 'short_descr': 'PMSEL135', 'long_descr': 'Select Plus More (TV, Internet, Phone) $135'}, {'@search.score': 1.0, 'code': '97528', 'mapping_id': 'customfield', 'short_descr': 'GIGEX90', 'long_descr': 'Gig Extra 1.2Gbps for $90'}, {'@search.score': 1.0, 'code': '97546', 'mapping_id': 'customfield', 'short_descr': 'PMSELEDP', 'long_descr': 'Select Plus More (TV, Internet, Phone) at Every Day Price'}, {'@search.score': 1.0, 'code': '97620', 'mapping_id': 'customfield', 'short_descr': 'VOB290', 'long_descr': 'Video only B2 standard $90'}, {'@search.score': 1.0, 'code': '97630', 'mapping_id': 'customfield', 'short_descr': 'PMSTD120', 'long_descr': 'Standard Plus More (TV, Internet, Phone) $120'}, {'@search.score': 1.0, 'code': '97660', 'mapping_id': 'customfield', 'short_descr': 'VOD1110', 'long_descr': 'Video Only Digital (Legacy ver of Popular) $110'}, {'@search.score': 1.0, 'code': '97678', 'mapping_id': 'customfield', 'short_descr': 'CONNM65', 'long_descr': 'Connect More for $65'}, {'@search.score': 1.0, 'code': '97824', 'mapping_id': 'customfield', 'short_descr': 'B120070', 'long_descr': 'Basic TV 200 for $70'}, {'@search.score': 1.0, 'code': '97840', 'mapping_id': 'customfield', 'short_descr': 'ECONPLUS', 'long_descr': 'Economy Plus (legacy tier)'}, {'@search.score': 1.0, 'code': '109036', 'mapping_id': 'customfield', 'short_descr': 'P400150', 'long_descr': '2 Products Popular & Connect More (400Mbps) for $150 '}, {'@search.score': 1.0, 'code': '109042', 'mapping_id': 'customfield', 'short_descr': 'P800130', 'long_descr': 'Popular Connect for $110'}, {'@search.score': 1.0, 'code': '109052', 'mapping_id': 'customfield', 'short_descr': 'PGIG140', 'long_descr': 'Popular Gig for $140'}, {'@search.score': 1.0, 'code': '109062', 'mapping_id': 'customfield', 'short_descr': 'P12G150', 'long_descr': 'Popular Gig Extra for $150'}, {'@search.score': 1.0, 'code': '109064', 'mapping_id': 'customfield', 'short_descr': 'P12G160', 'long_descr': 'Popular Gig Extra for $160'}, {'@search.score': 1.0, 'code': '109078', 'mapping_id': 'customfield', 'short_descr': 'UGIG180', 'long_descr': 'Ultimate Gig $180'}, {'@search.score': 1.0, 'code': '80123', 'mapping_id': 'lob', 'short_descr': 'XH AND XI', 'long_descr': 'Xfinity Home and Xfinity Internet'}, {'@search.score': 1.0, 'code': '80126', 'mapping_id': 'lob', 'short_descr': '3P XH', 'long_descr': '3 Product Service with Xfinity Home'}, {'@search.score': 1.0, 'code': '80306', 'mapping_id': 'lob', 'short_descr': '3P', 'long_descr': '3 Product Service'}, {'@search.score': 1.0, 'code': '97380', 'mapping_id': 'customfield', 'short_descr': '2PDVEDP', 'long_descr': '2 Products Digital Video/ Internet at Everyday Pricing '}, {'@search.score': 1.0, 'code': '97446', 'mapping_id': 'customfield', 'short_descr': 'PMSEL120', 'long_descr': 'Select Plus More (TV, Internet, Phone) $120'}, {'@search.score': 1.0, 'code': '97458', 'mapping_id': 'customfield', 'short_descr': 'PLSUP160', 'long_descr': 'Super Plus (TV & Internet) $160'}, {'@search.score': 1.0, 'code': '97576', 'mapping_id': 'customfield', 'short_descr': 'FAST60', 'long_descr': 'Fast internet for $60'}, {'@search.score': 1.0, 'code': '97580', 'mapping_id': 'customfield', 'short_descr': 'B1GIG110', 'long_descr': 'Basic TV GIG for $110'}, {'@search.score': 1.0, 'code': '97586', 'mapping_id': 'customfield', 'short_descr': 'PLSIG130', 'long_descr': 'Sig Plus for $130'}, {'@search.score': 1.0, 'code': '97606', 'mapping_id': 'customfield', 'short_descr': 'VOB260', 'long_descr': 'Video only B2 standard $60'}, {'@search.score': 1.0, 'code': '97662', 'mapping_id': 'customfield', 'short_descr': 'PLSELEDP', 'long_descr': 'Select Plus  (TV & Internet) for Every Day Price'}, {'@search.score': 1.0, 'code': '97742', 'mapping_id': 'customfield', 'short_descr': 'VOB250', 'long_descr': 'Video only B2 standard $50'}, {'@search.score': 1.0, 'code': '97832', 'mapping_id': 'customfield', 'short_descr': 'B140060', 'long_descr': 'Basic TV 400 for $60'}], '@odata.nextLink': 'https://chatwithbrsearch.search.windows.net/indexes/ixfieldmapping/docs/search?api-version=2024-03-01-preview'}\n"
     ]
    }
   ],
   "source": [
    "headers = {\n",
    "    \"Content-Type\": \"application/json\",\n",
    "    \"api-key\": os.environ[\"AZURE_SEARCH_KEY\"]\n",
    "}\n",
    "\n",
    "params = {\n",
    "    \"api-version\": os.environ[\"AZURE_SEARCH_API_VERSION\"]\n",
    "}\n",
    "\n",
    "search_payload = {\n",
    "    \"search\": \"*\",\n",
    "    \"select\": \", \".join(indexes[0][\"fields\"]),\n",
    "    \"queryType\": \"simple\"\n",
    "}\n",
    "\n",
    "response = requests.post(\n",
    "    os.environ[\"AZURE_SEARCH_ENDPOINT\"] + \"/indexes/\" + indexes[0][\"name\"] + \"/docs/search\",\n",
    "    data=json.dumps(search_payload),\n",
    "    headers=headers,\n",
    "    params=params\n",
    ")\n",
    "\n",
    "print(response.json())"
   ]
  },
  {
   "cell_type": "markdown",
   "metadata": {},
   "source": [
    "###  search product mapping"
   ]
  },
  {
   "cell_type": "code",
   "execution_count": 7,
   "metadata": {},
   "outputs": [
    {
     "name": "stdout",
     "output_type": "stream",
     "text": [
      "{'@odata.context': \"https://chatwithbrsearch.search.windows.net/indexes('ixproductmapping')/$metadata#docs(*)\", 'value': [{'@search.score': 1.0, 'name': '(POS) XTV Popular & XI Superfast DP $170 x 12M/EDP ($180 EDP - $10 PD - $20 BD - $10 SS  = $140) - NED Mod - Existing', 'id': '9776102668', 'state': 'ACTIVE', 'value': '(((97126 AND 97350 AND (97838 OR 80118 OR 97418 OR 97422 OR 97430 OR 97564 OR 97640 OR 97632 OR 97536)) OR (((97028 OR 97029 OR 97170 OR 97172) AND (NOT 97180)) AND (97546 OR 97610 OR 97644 OR 97814 OR 97444 OR 97550 OR 97386)) OR ((97344 OR 97346) AND (97418 OR 97422 OR 97430 OR 97632 OR 97546 OR 97564))) AND (NOT 82118) AND (NOT 103086))'}, {'@search.score': 1.0, 'name': '(POS) XTV Popular & XI Superfast DP $150 x 12M/ $175 x 12M (BER) ($180 EDP - $30 PD - $20 BD = $130 - $10 SS = $120)- NED Mod - Existing', 'id': '9776102700', 'state': 'ACTIVE', 'value': '(((97126 AND 97350 AND (80118 OR 97442 OR 97418 OR 97422 OR 97412 OR 97534 OR 97544 OR 97420 OR 97510)) OR (((97028 OR 97029 OR 97170 OR 97172) AND (NOT 97180)) AND (97610 OR 97536 OR 97444 OR 97550 OR 97386 OR 97482 OR 97548 OR 97726 OR 97564 OR 97402)) OR ((97344 OR 97346) AND (97442 OR 97418 OR 97422 OR 97662)) OR (97126 AND (97682 OR 97440))) AND (NOT 82118) AND (NOT 103086))'}, {'@search.score': 1.0, 'name': '(POS) XTV Popular & XI Gigabit DP w/Agrmt $155 x 24M/ $180 x 12M (BER) ($185 EDP - $30 PD - $20 BD = $135 - $10 SS = $125)- NED Mod - Existing', 'id': '9776102726', 'state': 'ACTIVE', 'value': '(((97126 AND 97350 AND (97414 OR 97630 OR 97626 OR 97510 OR 97612 OR 97636)) OR (((97028 OR 97029 OR 97170 OR 97172) AND (NOT 97180)) AND (97662 OR 97520 OR 97564 OR 97712 OR 97402)) OR ((97344 OR 97346) AND (97414 OR 97630 OR 97626))) AND (NOT 103038) AND (NOT 82118) AND (NOT 103086))'}, {'@search.score': 1.0, 'name': '(POS) XTV Popular & XI Gigabit DP w/Agrmt $150 x 24M/ $175 x 12M (BER) ($185 EDP - $35 PD - $20 BD = $130 - $10 SS = $120)- NED Mod - Existing', 'id': '9776102720', 'state': 'ACTIVE', 'value': '(((97126 AND 97350 AND (80115 OR 97434 OR 97436 OR 97440 OR 97618 OR 97624 OR 97586 OR 97602 OR 97496 OR 97582 OR 97514 OR 97810 OR 97736 OR 97738 OR 97740 OR 97742 OR 97606 OR 97614 OR 97616 OR 97620 OR 97622 OR 97628 OR 97642 OR 97650 OR 97654 OR 97660 OR 97664 OR 97666 OR 97838)) OR (((97028 OR 97029 OR 97170 OR 97172) AND (NOT 97180)) AND (97658 OR 97604 OR 97412 OR 97544)) OR ((97344 OR 97346) AND (80115 OR 97434 OR 97436 OR 97618 OR 97624)) OR (97126 AND (97464 OR 97468 OR 97472 OR 97474 OR 97476 OR 97494 OR 97500 OR 97502 OR 97506 OR 97512 OR 97522 OR 97526 OR 97528 OR 97532 OR 97540 OR 97558 OR 97600 OR 97668 OR 97672 OR 97840 OR 98106))) AND (NOT 103038) AND (NOT 82118) AND (NOT 103086))'}, {'@search.score': 1.0, 'name': '(POS) XTV Popular & XI Fast DP w/Agrmt $130 x 24M/ $135 x 12M (BER) ($175 EDP - $45 PD - $20 BD = $110 - $10 SS = $100)- NED Mod - Existing', 'id': '9776102992', 'state': 'ACTIVE', 'value': '(((97126 AND (80115 OR 97638 OR 97464 OR 97468 OR 97472 OR 97474 OR 97476 OR 97600)) OR ((97344 OR 97346) AND (97436 OR 97624 OR 97652)) OR (97126 AND 97350 AND (97426 OR 97648 OR 97828 OR 97830 OR 97664 OR 97666)) OR ((97028 OR 97029 OR 97170 OR 97172) AND (NOT 97180) AND (97440 OR 97420 OR 97510))) AND (NOT 103038) AND (NOT 82118) AND (NOT 103086))'}, {'@search.score': 1.0, 'name': '(POS) XTV Popular & XI Fast DP $130 x 12M/ $155 x 12M (BER) ($175 EDP - $45 PD - $20 BD = $110 - $10 SS = $100)- NED Mod - Existing', 'id': '9776102684', 'state': 'ACTIVE', 'value': '(((97126 AND 97350 AND (80115 OR 97638 OR 97426 OR 97648 OR 97828 OR 97830 OR 97664 OR 97666)) OR ((97344 OR 97346) AND (80115 OR 97436 OR 97624 OR 97638 OR 97652))) AND (NOT 103038) AND (NOT 82118) AND (NOT 103086))'}, {'@search.score': 1.0, 'name': '(POS) XTV Popular & XI Fast DP $155 x 12M ($175 EDP - $20 PD - $20 BD = $135 - $10 SS = $125)- NED Mod - Existing', 'id': '9776102688', 'state': 'ACTIVE', 'value': '(((97126 AND 97350 AND (97394 OR 97414 OR 97656 OR 97420 OR 97510 OR 97586 OR 97602 OR 97736 OR 97738 OR 97740 OR 97742 OR 97606 OR 97614 OR 97616 OR 97620 OR 97622 OR 97628 OR 97642 OR 97650 OR 97654 OR 97660 OR 97430)) OR (((97028 OR 97029 OR 97170 OR 97172) AND (NOT 97180)) AND (97432 OR 97658 OR 97604 OR 97612 OR 97524 OR 97424 OR 97454 OR 97812 OR 97724 OR 97634 OR 97518 OR 97546)) OR ((97344 OR 97346) AND (97394 OR 97414 OR 97430 OR 97632 OR 97656 OR 97658)) OR (97126 AND (97480 OR 97484 OR 97490 OR 97598 OR 97684 OR 97874 OR 97876))) AND (NOT 103038) AND (NOT 82118) AND (NOT 103086))'}, {'@search.score': 1.0, 'name': '(POS) XTV Popular & XI Fast DP w/Agrmt $145 x 24M/ $170 x 12M (BER) ($175 EDP - $30 PD - $20 BD = $125 - $10 SS = $115)- NED Mod - Existing', 'id': '9776102686', 'state': 'ACTIVE', 'value': '(((97126 AND 97350 AND (97394 OR 97414 OR 97656 OR 97420 OR 97446 OR 97510 OR 97586 OR 97602 OR 97736 OR 97738 OR 97740 OR 97742 OR 97606 OR 97614 OR 97616 OR 97620 OR 97622 OR 97628 OR 97642 OR 97650 OR 97654 OR 97660 OR 97430)) OR (((97028 OR 97029 OR 97170 OR 97172) AND (NOT 97180)) AND (97630 OR 97626 OR 97632 OR 97658 OR 97604 OR 97612 OR 97496 OR 97582 OR 97514 OR 97810 OR 97724 OR 97564)) OR ((97344 OR 97346) AND (97394 OR 97414 OR 97430 OR 97440 OR 97630 OR 97626 OR 97656 OR 97420)) OR (97126 AND (109002 OR 97570 OR 97576 OR 97584 OR 97588 OR 97674 OR 97676 OR 97678 OR 97680 OR 97836))) AND (NOT 103038) AND (NOT 82118) AND (NOT 103086))'}, {'@search.score': 1.0, 'name': '(POS)  XTV Popular & XI Connect More DP w/Agrmt $130 x 24M/ $155 x 12M (BER) ($160 EDP - $30 PD - $20 BD = $110 - $10 SS =$100)- NED Mod - Existing', 'id': '9776102678', 'state': 'ACTIVE', 'value': '(((97126 AND 97350 AND (97736 OR 97738 OR 97740 OR 97742 OR 97606 OR 97614 OR 97616 OR 97620 OR 97622 OR 97628 OR 97642 OR 97650 OR 97654 OR 97664 OR 97666)) OR (((97028 OR 97029 OR 97170 OR 97172) AND (NOT 97180)) AND (97708 OR 97440 OR 97626)) OR ((97126 AND (109002 OR 97674 OR 97676 OR 97678 OR 97680)))) AND (NOT 103038) AND (NOT 82118) AND (NOT 103086))'}, {'@search.score': 1.0, 'name': '(POS) XTV Choice & XI Connect More DP w/Agrmt $90 x 24M/ $115 x 12M (BER) ($125 EDP - $35 PD - $20 BD = $70 - $10 SS = $60)- NED Mod - Existing', 'id': '9776102674', 'state': 'ACTIVE', 'value': '(((97126 AND 97350 AND (80115 OR 97394 OR 97414 OR 97736 OR 97738 OR 97740 OR 97742 OR 97606 OR 97614 OR 97616 OR 97620 OR 97622 OR 97628 OR 97642 OR 97650 OR 97654 OR 97660 OR 97664 OR 97666)) OR (((97028 OR 97029 OR 97170 OR 97172) AND (NOT 97180)) AND (97442 OR 97418 OR 97428 OR 97496 OR 97582 OR 97514)) OR ((97344 OR 97346) AND (97394 OR 97414))) AND (NOT 103038) AND (NOT 82118) AND (NOT 103086))'}, {'@search.score': 1.0, 'name': '(POS) XTV Popular & XI Fast DP $165 x 12M ($175 EDP - $10 PD  - $20 BD = $145 - $10 SS = $135)- NED Mod - Existing', 'id': '9776102692', 'state': 'ACTIVE', 'value': '(((97126 AND 97350 AND (80118 OR 97442 OR 97418 OR 97422 OR 97564 OR 97412 OR 97534 OR 97544)) OR (((97028 OR 97029 OR 97170 OR 97172) AND (NOT 97180)) AND (97610 OR 97536 OR 97444 OR 97550 OR 97386 OR 97482 OR 97548 OR 97726)) OR ((97344 OR 97346) AND (97442 OR 97418 OR 97422 OR 97662 OR 97564)) OR (97126 AND 97682)) AND (NOT 82118) AND (NOT 103086))'}, {'@search.score': 1.0, 'name': '(POS) XTV Ultimate & XI Connect More DP w/Agrmt $145 x 24M/ $170 x 12M (BER) ($180 EDP -$35 PD - $20 BD = $125 - $10 SS = $115 )- NED Mod - Existing', 'id': '9776102756', 'state': 'ACTIVE', 'value': '(((97126 AND 97350 AND (80115 OR 97736 OR 97738 OR 97740 OR 97742 OR 97606 OR 97614 OR 97616 OR 97620 OR 97622 OR 97628 OR 97642 OR 97650 OR 97654 OR 97660 OR 97664 OR 97666)) OR (((97028 OR 97029 OR 97170 OR 97172) AND (NOT 97180)) AND (97440 OR 97656 OR 97420 OR 97634)) OR ((97344 OR 97346) AND 80115) OR (97126 AND (109002 OR 97674 OR 97676 OR 97678 OR 97680))) AND (NOT 103038) AND (NOT 82118) AND (NOT 103086))'}, {'@search.score': 1.0, 'name': '(POS) XTV Popular & XI Gigabit Plus DP $175 x 12M/EDP ($185 EDP -$10 PD - $20 BD = $155 - $10 SS = $145) - NED Mod - Existing', 'id': '9776102670', 'state': 'ACTIVE', 'value': '(((97126 AND 97350 AND (80118 OR 97418 OR 97422 OR 97564 OR 97640 OR 97644 OR 97536 OR 97704 OR 97632)) OR (((97028 OR 97029 OR 97170 OR 97172) AND (NOT 97180)) AND (97610 OR 97460 OR 97462 OR 97552 OR 97814 OR 97542 OR 97448 OR 97566 OR 97388 OR 97728 OR 97816 OR 97820)) OR ((97344 OR 97346) AND (97418 OR 97422 OR 97632 OR 97564)) OR ((97126 AND (109002 OR 97480 OR 97484 OR 97490 OR 97516 OR 97530 OR 97570 OR 97576 OR 97584 OR 97588 OR 97598 OR 97674 OR 97676 OR 97678 OR 97680 OR 97682 OR 97684 OR 97836 OR 97874 OR 97876 OR 97878)))) AND (NOT 82118) AND (NOT 103086))'}, {'@search.score': 1.0, 'name': '(POS) XTV Popular & XI Gigabit Extra DP w/Agrmt $160 x 24M/ $185 x 12M (BER) ($190 EDP - $30 PD - $20 BD = $140 - $10 SS = $130)- NED Mod - Existing', 'id': '9776102752', 'state': 'ACTIVE', 'value': '(((97126 AND 97350 AND (97414 OR 97434 OR 97436 OR 97440 OR 97618 OR 97624 OR 97630 OR 97626 OR 97656 OR 97658 OR 97662 OR 97420 OR 97520 OR 97586 OR 97602 OR 97604 OR 97612 OR 97636 OR 97524 OR 97424 OR 97454 OR 97810 OR 97812 OR 97758 OR 97762 OR 97764 OR 97736 OR 97738 OR 97740 OR 97742 OR 97606 OR 97614 OR 97616 OR 97620 OR 97622 OR 97628 OR 97642 OR 97650 OR 97654 OR 97660 OR 97664 OR 97666 OR 97838)) OR (((97028 OR 97029 OR 97170 OR 97172) AND (NOT 97180)) AND (97608 OR 97640 OR 97412 OR 97458 OR 97534 OR 97544 OR 97712)) OR ((97344 OR 97346) AND (97414 OR 97434 OR 97436 OR 97440 OR 97618 OR 97624 OR 97630 OR 97626)) OR (97126 AND (97464 OR 97468 OR 97472 OR 97474 OR 97476 OR 97494 OR 97500 OR 97502 OR 97506 OR 97512 OR 97522 OR 97526 OR 97528 OR 97532 OR 97540 OR 97558 OR 97600 OR 97668 OR 97672 OR 97840 OR 98106))) AND (NOT 97400) AND (NOT 103038) AND (NOT 82118) AND (NOT 103086))'}, {'@search.score': 1.0, 'name': '(POS) XTV Popular & XI Connect More DP w/Agrmt $150 x 24M ($160 EDP - $10 PD  - $20 BD = $130 - $10 SS = $120)- NED Mod - Existing', 'id': '9776102680', 'state': 'ACTIVE', 'value': '(((97126 AND 97350 AND (97626 OR 97660)) OR (((97028 OR 97029 OR 97170 OR 97172) AND (NOT 97180)) AND (97632 OR 97712)) OR (97126 AND (97480 OR 97484 OR 97570 OR 97576 OR 97584 OR 97588 OR 97684 OR 97836 OR 97874))) AND (NOT 103038) AND (NOT 82118) AND (NOT 103086))'}, {'@search.score': 1.0, 'name': '(POS) XTV Popular & XI Superfast DP w/Agrmt $140 x 24M/ $165 x 12 (BER) ($180 EDP -$ 40 PD - $20 BD = $120 - $10 SS = $110)- NED Mod - Existing', 'id': '9776102696', 'state': 'ACTIVE', 'value': '(((97126 AND 97350 AND (80115 OR 97434 OR 97436 OR 97440 OR 97618 OR 97624 OR 97556 OR 97574 OR 97504 OR 97736 OR 97738 OR 97740 OR 97742 OR 97606 OR 97614 OR 97616 OR 97620 OR 97622 OR 97628 OR 97642 OR 97650 OR 97654 OR 97660 OR 97664 OR 97666 OR 97838)) OR (((97028 OR 97029 OR 97170 OR 97172) AND (NOT 97180)) AND (97656 OR 97420 OR 97510)) OR ((97344 OR 97346) AND (80115 OR 97434 OR 97436 OR 97618 OR 97624)) OR (97126 AND (97464 OR 97468 OR 97472 OR 97474 OR 97476 OR 97494 OR 97500 OR 97502 OR 97506 OR 97512 OR 97532 OR 97540 OR 97558 OR 97600 OR 97668 OR 97672 OR 97840 OR 98106))) AND (NOT 103038) AND (NOT 82118) AND (NOT 103086))'}, {'@search.score': 1.0, 'name': '(POS) XTV Popular & XI Gigabit DP $160 x 12M ($185 EDP -  $25 PD - $20 BD = $140 - $10 SS =$130)- NED Mod - Existing', 'id': '9776102736', 'state': 'ACTIVE', 'value': '(((97126 AND 97350 AND (80115 OR 97434 OR 97436 OR 97440 OR 97618 OR 97624 OR 97656 OR 97420 OR 97586 OR 97602 OR 97524 OR 97424 OR 97454 OR 97812 OR 97712 OR 97736 OR 97738 OR 97740 OR 97742 OR 97606 OR 97614 OR 97616 OR 97620 OR 97622 OR 97628 OR 97642 OR 97650 OR 97654 OR 97660 OR 97664 OR 97666)) OR (((97028 OR 97029 OR 97170 OR 97172) AND (NOT 97180)) AND (97658 OR 97604 OR 97640 OR 97412 OR 97544 OR 97546)) OR ((97344 OR 97346) AND (80115 OR 97434 OR 97436 OR 97440 OR 97618 OR 97624))) AND (NOT 103038) AND (NOT 82118) AND (NOT 103086))'}, {'@search.score': 1.0, 'name': '(POS) XTV Choice & XI Connect More DP $105 x 24M/EDP ($125 EDP - $20 PD - $20 BD = $85 - $10 SS = $75)- NED Mod - Existing', 'id': '9776102676', 'state': 'ACTIVE', 'value': '(((97126 AND 97350 AND 97442) OR (((97028 OR 97029 OR 97170 OR 97172) AND (NOT 97180)) AND (97422 OR 97428 OR 97430 OR 97432 OR 97524 OR 97424 OR 97454)) OR ((97344 OR 97346) AND (97418 OR 97422 OR 97430)) OR (97126 AND (109002 OR 97570 OR 97576 OR 97584 OR 97588 OR 97674 OR 97676 OR 97678 OR 97680 OR 97836))) AND (NOT 103038) AND (NOT 82118) AND (NOT 103086))'}, {'@search.score': 1.0, 'name': '(POS) XTV Choice & XI Fast DP $115 x 12M/EDP ($140 EDP - $25 PD - $20 BD = $95 - $10 SS = $85)- NED Mod - Existing', 'id': '9776102856', 'state': 'ACTIVE', 'value': '(((97126 AND 97350 AND (97394 OR 97414 OR 97418 OR 97422 OR 97430)) OR (((97028 OR 97029 OR 97170 OR 97172) AND (NOT 97180)) AND 97428) OR ((97344 OR 97346) AND (97394 OR 97414 OR 97418 OR 97422 OR 97430)) OR (97126 AND (109002 OR 97684 OR 97674 OR 97676 OR 97678 OR 97680 OR 97682 OR 97570 OR 97576 OR 97584 OR 97588 OR 97836 OR 97480 OR 97484 OR 97874))) AND (NOT 103038) AND (NOT 82118) AND (NOT 103086))'}, {'@search.score': 1.0, 'name': '(POS) XTV Popular & XI Fast DP w/Agrmt $120 x 24M/ $145 x 12 (BER) ($175 EDP - $55 PD - $20 BD = $100 - $10 SS = $90)- NED Mod - Existing', 'id': '9776102682', 'state': 'ACTIVE', 'value': '(((97126 AND 97350 AND (80115 OR 97828 OR 97664 OR 97666 OR 97838)) OR (((97028 OR 97029 OR 97170 OR 97172) AND (NOT 97180)) AND (97638 OR 97648)) OR ((97344 OR 97346) AND (80115 OR 97434 OR 97618 OR 97638)) OR (97126 AND (97532 OR 97540 OR 97558 OR 97668 OR 97672 OR 97840 OR 98106))) AND (NOT 103038) AND (NOT 82118) AND (NOT 103086))'}, {'@search.score': 1.0, 'name': '(POS) XTV Popular & XI Gigabit Extra DP $180 x 12M ($190 EDP - $10 PD - $20 BD = $160 - $10 SS = $150)- NED Mod - Existing', 'id': '9776102754', 'state': 'ACTIVE', 'value': '(((97126 AND 97350 AND (80118 OR 97418 OR 97422 OR 97428 OR 97546 OR 97564 OR 97610 OR 97640 OR 97644 OR 97536 OR 97542 OR 97448 OR 97550 OR 97566 OR 97388 OR 97704 OR 97632)) OR (((97028 OR 97029 OR 97170 OR 97172) AND (NOT 97180)) AND 97814) OR ((97344 OR 97346) AND (97418 OR 97422 OR 97428 OR 97632)) OR (97126 AND (109002 OR 97480 OR 97484 OR 97490 OR 97516 OR 97530 OR 97570 OR 97576 OR 97584 OR 97588 OR 97598 OR 97674 OR 97676 OR 97678 OR 97680 OR 97682 OR 97684 OR 97836 OR 97874 OR 97876 OR 97878))) AND (NOT 97400) AND (NOT 82118) AND (NOT 103086))'}]}\n"
     ]
    }
   ],
   "source": [
    "headers = {\n",
    "    \"Content-Type\": \"application/json\",\n",
    "    \"api-key\": os.environ[\"AZURE_SEARCH_KEY\"]\n",
    "}\n",
    "\n",
    "params = {\n",
    "    \"api-version\": os.environ[\"AZURE_SEARCH_API_VERSION\"]\n",
    "}\n",
    "\n",
    "search_payload = {\n",
    "    \"search\": \"*\",\n",
    "    \"select\": \", \".join(indexes[1][\"fields\"]),\n",
    "    \"queryType\": \"simple\"\n",
    "}\n",
    "\n",
    "response = requests.post(\n",
    "    os.environ[\"AZURE_SEARCH_ENDPOINT\"] + \"/indexes/\" + indexes[1][\"name\"] + \"/docs/search\",\n",
    "    data=json.dumps(search_payload),\n",
    "    headers=headers,\n",
    "    params=params\n",
    ")\n",
    "\n",
    "print(response.json())"
   ]
  },
  {
   "cell_type": "markdown",
   "metadata": {},
   "source": [
    "### search enhanced product mapping"
   ]
  },
  {
   "cell_type": "code",
   "execution_count": null,
   "metadata": {},
   "outputs": [],
   "source": [
    "headers = {\n",
    "    \"Content-Type\": \"application/json\",\n",
    "    \"api-key\": os.environ[\"AZURE_SEARCH_KEY\"]\n",
    "}\n",
    "\n",
    "params = {\n",
    "    \"api-version\": os.environ[\"AZURE_SEARCH_API_VERSION\"]\n",
    "}\n",
    "\n",
    "search_payload = {\n",
    "    \"search\": \"*\",\n",
    "    \"select\": \", \".join(indexes[2][\"fields\"]),\n",
    "    \"queryType\": \"simple\"\n",
    "}\n",
    "\n",
    "response = requests.post(\n",
    "    os.environ[\"AZURE_SEARCH_ENDPOINT\"] + \"/indexes/\" + indexes[2][\"name\"] + \"/docs/search\",\n",
    "    data=json.dumps(search_payload),\n",
    "    headers=headers,\n",
    "    params=params\n",
    ")\n",
    "\n",
    "print(response.json())"
   ]
  }
 ],
 "metadata": {
  "kernelspec": {
   "display_name": ".venv",
   "language": "python",
   "name": "python3"
  },
  "language_info": {
   "codemirror_mode": {
    "name": "ipython",
    "version": 3
   },
   "file_extension": ".py",
   "mimetype": "text/x-python",
   "name": "python",
   "nbconvert_exporter": "python",
   "pygments_lexer": "ipython3",
   "version": "3.10.11"
  }
 },
 "nbformat": 4,
 "nbformat_minor": 2
}
